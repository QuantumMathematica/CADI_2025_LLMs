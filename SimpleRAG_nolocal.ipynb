{
 "cells": [
  {
   "cell_type": "markdown",
   "metadata": {},
   "source": [
    "En este notebook usaremos llama 3 a través de una API (uso \"limitado\" gratuito), sin usar el llm localmente en la computadora. Es necesario crear una cuenta aquí:\n",
    "\n",
    "https://console.groq.com/login\n",
    "\n",
    "y solicitar una key:\n",
    "\n",
    "https://console.groq.com/keys\n",
    "\n",
    "Create a file named .env where you store the value of your key:\n",
    "\n",
    "GROQ_API_KEY='---'"
   ]
  },
  {
   "cell_type": "code",
   "execution_count": 3,
   "metadata": {},
   "outputs": [
    {
     "name": "stdout",
     "output_type": "stream",
     "text": [
      "Defaulting to user installation because normal site-packages is not writeable\n",
      "Requirement already satisfied: groq in /Users/elisabetta/Library/Python/3.9/lib/python/site-packages (0.15.0)\n",
      "Requirement already satisfied: sniffio in /Users/elisabetta/Library/Python/3.9/lib/python/site-packages (from groq) (1.3.1)\n",
      "Requirement already satisfied: httpx<1,>=0.23.0 in /Users/elisabetta/Library/Python/3.9/lib/python/site-packages (from groq) (0.27.2)\n",
      "Requirement already satisfied: typing-extensions<5,>=4.10 in /Users/elisabetta/Library/Python/3.9/lib/python/site-packages (from groq) (4.12.2)\n",
      "Requirement already satisfied: anyio<5,>=3.5.0 in /Users/elisabetta/Library/Python/3.9/lib/python/site-packages (from groq) (4.7.0)\n",
      "Requirement already satisfied: pydantic<3,>=1.9.0 in /Users/elisabetta/Library/Python/3.9/lib/python/site-packages (from groq) (2.10.3)\n",
      "Requirement already satisfied: distro<2,>=1.7.0 in /Users/elisabetta/Library/Python/3.9/lib/python/site-packages (from groq) (1.9.0)\n",
      "Requirement already satisfied: exceptiongroup>=1.0.2 in /Users/elisabetta/Library/Python/3.9/lib/python/site-packages (from anyio<5,>=3.5.0->groq) (1.2.2)\n",
      "Requirement already satisfied: idna>=2.8 in /Users/elisabetta/Library/Python/3.9/lib/python/site-packages (from anyio<5,>=3.5.0->groq) (3.10)\n",
      "Requirement already satisfied: httpcore==1.* in /Users/elisabetta/Library/Python/3.9/lib/python/site-packages (from httpx<1,>=0.23.0->groq) (1.0.7)\n",
      "Requirement already satisfied: certifi in /Users/elisabetta/Library/Python/3.9/lib/python/site-packages (from httpx<1,>=0.23.0->groq) (2024.8.30)\n",
      "Requirement already satisfied: h11<0.15,>=0.13 in /Users/elisabetta/Library/Python/3.9/lib/python/site-packages (from httpcore==1.*->httpx<1,>=0.23.0->groq) (0.14.0)\n",
      "Requirement already satisfied: annotated-types>=0.6.0 in /Users/elisabetta/Library/Python/3.9/lib/python/site-packages (from pydantic<3,>=1.9.0->groq) (0.7.0)\n",
      "Requirement already satisfied: pydantic-core==2.27.1 in /Users/elisabetta/Library/Python/3.9/lib/python/site-packages (from pydantic<3,>=1.9.0->groq) (2.27.1)\n",
      "\u001b[33mWARNING: You are using pip version 21.2.4; however, version 24.3.1 is available.\n",
      "You should consider upgrading via the '/Library/Developer/CommandLineTools/usr/bin/python3 -m pip install --upgrade pip' command.\u001b[0m\n"
     ]
    }
   ],
   "source": [
    "!pip3 install groq"
   ]
  },
  {
   "cell_type": "code",
   "execution_count": 2,
   "metadata": {},
   "outputs": [
    {
     "name": "stdout",
     "output_type": "stream",
     "text": [
      "Defaulting to user installation because normal site-packages is not writeable\n",
      "Requirement already satisfied: PyPDF2 in /Users/elisabetta/Library/Python/3.9/lib/python/site-packages (3.0.1)\n",
      "Requirement already satisfied: langchain==0.3.9 in /Users/elisabetta/Library/Python/3.9/lib/python/site-packages (0.3.9)\n",
      "Requirement already satisfied: langchain-community==0.3.9 in /Users/elisabetta/Library/Python/3.9/lib/python/site-packages (0.3.9)\n",
      "Collecting langchain-core==0.3.21\n",
      "  Using cached langchain_core-0.3.21-py3-none-any.whl (409 kB)\n",
      "Requirement already satisfied: langchain-experimental==0.3.3 in /Users/elisabetta/Library/Python/3.9/lib/python/site-packages (0.3.3)\n",
      "Requirement already satisfied: huggingface-hub==0.23.2 in /Users/elisabetta/Library/Python/3.9/lib/python/site-packages (0.23.2)\n",
      "Requirement already satisfied: instructor==1.7.0 in /Users/elisabetta/Library/Python/3.9/lib/python/site-packages (1.7.0)\n",
      "Requirement already satisfied: InstructorEmbedding==1.0.1 in /Users/elisabetta/Library/Python/3.9/lib/python/site-packages (1.0.1)\n",
      "Requirement already satisfied: sentence-transformers==2.2.2 in /Users/elisabetta/Library/Python/3.9/lib/python/site-packages (2.2.2)\n",
      "Requirement already satisfied: torch in /Users/elisabetta/Library/Python/3.9/lib/python/site-packages (2.5.1)\n",
      "Requirement already satisfied: pdfplumber in /Users/elisabetta/Library/Python/3.9/lib/python/site-packages (0.11.5)\n",
      "Requirement already satisfied: faiss-cpu in /Users/elisabetta/Library/Python/3.9/lib/python/site-packages (1.9.0.post1)\n",
      "Requirement already satisfied: langsmith<0.2.0,>=0.1.17 in /Users/elisabetta/Library/Python/3.9/lib/python/site-packages (from langchain==0.3.9) (0.1.147)\n",
      "Requirement already satisfied: aiohttp<4.0.0,>=3.8.3 in /Users/elisabetta/Library/Python/3.9/lib/python/site-packages (from langchain==0.3.9) (3.11.11)\n",
      "Requirement already satisfied: langchain-text-splitters<0.4.0,>=0.3.0 in /Users/elisabetta/Library/Python/3.9/lib/python/site-packages (from langchain==0.3.9) (0.3.2)\n",
      "Requirement already satisfied: numpy<2,>=1.22.4 in /Users/elisabetta/Library/Python/3.9/lib/python/site-packages (from langchain==0.3.9) (1.26.4)\n",
      "Requirement already satisfied: PyYAML>=5.3 in /Users/elisabetta/Library/Python/3.9/lib/python/site-packages (from langchain==0.3.9) (6.0.2)\n",
      "Requirement already satisfied: requests<3,>=2 in /Users/elisabetta/Library/Python/3.9/lib/python/site-packages (from langchain==0.3.9) (2.32.3)\n",
      "Requirement already satisfied: async-timeout<5.0.0,>=4.0.0 in /Users/elisabetta/Library/Python/3.9/lib/python/site-packages (from langchain==0.3.9) (4.0.3)\n",
      "Requirement already satisfied: pydantic<3.0.0,>=2.7.4 in /Users/elisabetta/Library/Python/3.9/lib/python/site-packages (from langchain==0.3.9) (2.10.3)\n",
      "Requirement already satisfied: SQLAlchemy<3,>=1.4 in /Users/elisabetta/Library/Python/3.9/lib/python/site-packages (from langchain==0.3.9) (2.0.37)\n",
      "Requirement already satisfied: tenacity!=8.4.0,<10,>=8.1.0 in /Users/elisabetta/Library/Python/3.9/lib/python/site-packages (from langchain==0.3.9) (9.0.0)\n",
      "Requirement already satisfied: dataclasses-json<0.7,>=0.5.7 in /Users/elisabetta/Library/Python/3.9/lib/python/site-packages (from langchain-community==0.3.9) (0.6.7)\n",
      "Requirement already satisfied: pydantic-settings<3.0.0,>=2.4.0 in /Users/elisabetta/Library/Python/3.9/lib/python/site-packages (from langchain-community==0.3.9) (2.7.1)\n",
      "Requirement already satisfied: httpx-sse<0.5.0,>=0.4.0 in /Users/elisabetta/Library/Python/3.9/lib/python/site-packages (from langchain-community==0.3.9) (0.4.0)\n",
      "Requirement already satisfied: typing-extensions>=4.7 in /Users/elisabetta/Library/Python/3.9/lib/python/site-packages (from langchain-core==0.3.21) (4.12.2)\n",
      "Requirement already satisfied: jsonpatch<2.0,>=1.33 in /Users/elisabetta/Library/Python/3.9/lib/python/site-packages (from langchain-core==0.3.21) (1.33)\n",
      "Requirement already satisfied: packaging<25,>=23.2 in /Users/elisabetta/Library/Python/3.9/lib/python/site-packages (from langchain-core==0.3.21) (24.2)\n",
      "Requirement already satisfied: fsspec>=2023.5.0 in /Users/elisabetta/Library/Python/3.9/lib/python/site-packages (from huggingface-hub==0.23.2) (2024.12.0)\n",
      "Requirement already satisfied: filelock in /Users/elisabetta/Library/Python/3.9/lib/python/site-packages (from huggingface-hub==0.23.2) (3.16.1)\n",
      "Requirement already satisfied: tqdm>=4.42.1 in /Users/elisabetta/Library/Python/3.9/lib/python/site-packages (from huggingface-hub==0.23.2) (4.67.1)\n",
      "Requirement already satisfied: pydantic-core<3.0.0,>=2.18.0 in /Users/elisabetta/Library/Python/3.9/lib/python/site-packages (from instructor==1.7.0) (2.27.1)\n",
      "Requirement already satisfied: rich<14.0.0,>=13.7.0 in /Users/elisabetta/Library/Python/3.9/lib/python/site-packages (from instructor==1.7.0) (13.9.4)\n",
      "Requirement already satisfied: openai<2.0.0,>=1.52.0 in /Users/elisabetta/Library/Python/3.9/lib/python/site-packages (from instructor==1.7.0) (1.59.7)\n",
      "Requirement already satisfied: jiter<0.7,>=0.6.1 in /Users/elisabetta/Library/Python/3.9/lib/python/site-packages (from instructor==1.7.0) (0.6.1)\n",
      "Requirement already satisfied: jinja2<4.0.0,>=3.1.4 in /Users/elisabetta/Library/Python/3.9/lib/python/site-packages (from instructor==1.7.0) (3.1.5)\n",
      "Requirement already satisfied: typer<1.0.0,>=0.9.0 in /Users/elisabetta/Library/Python/3.9/lib/python/site-packages (from instructor==1.7.0) (0.15.1)\n",
      "Requirement already satisfied: docstring-parser<0.17,>=0.16 in /Users/elisabetta/Library/Python/3.9/lib/python/site-packages (from instructor==1.7.0) (0.16)\n",
      "Requirement already satisfied: nltk in /Users/elisabetta/Library/Python/3.9/lib/python/site-packages (from sentence-transformers==2.2.2) (3.9.1)\n",
      "Requirement already satisfied: scipy in /Users/elisabetta/Library/Python/3.9/lib/python/site-packages (from sentence-transformers==2.2.2) (1.13.1)\n",
      "Requirement already satisfied: sentencepiece in /Users/elisabetta/Library/Python/3.9/lib/python/site-packages (from sentence-transformers==2.2.2) (0.2.0)\n",
      "Requirement already satisfied: scikit-learn in /Users/elisabetta/Library/Python/3.9/lib/python/site-packages (from sentence-transformers==2.2.2) (1.6.1)\n",
      "Requirement already satisfied: torchvision in /Users/elisabetta/Library/Python/3.9/lib/python/site-packages (from sentence-transformers==2.2.2) (0.20.1)\n",
      "Requirement already satisfied: transformers<5.0.0,>=4.6.0 in /Users/elisabetta/Library/Python/3.9/lib/python/site-packages (from sentence-transformers==2.2.2) (4.46.3)\n",
      "Requirement already satisfied: sympy==1.13.1 in /Users/elisabetta/Library/Python/3.9/lib/python/site-packages (from torch) (1.13.1)\n",
      "Requirement already satisfied: networkx in /Users/elisabetta/Library/Python/3.9/lib/python/site-packages (from torch) (3.2.1)\n",
      "Requirement already satisfied: mpmath<1.4,>=1.1.0 in /Users/elisabetta/Library/Python/3.9/lib/python/site-packages (from sympy==1.13.1->torch) (1.3.0)\n",
      "Requirement already satisfied: Pillow>=9.1 in /Users/elisabetta/Library/Python/3.9/lib/python/site-packages (from pdfplumber) (11.1.0)\n",
      "Requirement already satisfied: pypdfium2>=4.18.0 in /Users/elisabetta/Library/Python/3.9/lib/python/site-packages (from pdfplumber) (4.30.1)\n",
      "Requirement already satisfied: pdfminer.six==20231228 in /Users/elisabetta/Library/Python/3.9/lib/python/site-packages (from pdfplumber) (20231228)\n",
      "Requirement already satisfied: charset-normalizer>=2.0.0 in /Users/elisabetta/Library/Python/3.9/lib/python/site-packages (from pdfminer.six==20231228->pdfplumber) (3.4.0)\n",
      "Requirement already satisfied: cryptography>=36.0.0 in /Users/elisabetta/Library/Python/3.9/lib/python/site-packages (from pdfminer.six==20231228->pdfplumber) (44.0.0)\n",
      "Requirement already satisfied: multidict<7.0,>=4.5 in /Users/elisabetta/Library/Python/3.9/lib/python/site-packages (from aiohttp<4.0.0,>=3.8.3->langchain==0.3.9) (6.1.0)\n",
      "Requirement already satisfied: attrs>=17.3.0 in /Users/elisabetta/Library/Python/3.9/lib/python/site-packages (from aiohttp<4.0.0,>=3.8.3->langchain==0.3.9) (24.3.0)\n",
      "Requirement already satisfied: aiohappyeyeballs>=2.3.0 in /Users/elisabetta/Library/Python/3.9/lib/python/site-packages (from aiohttp<4.0.0,>=3.8.3->langchain==0.3.9) (2.4.4)\n",
      "Requirement already satisfied: yarl<2.0,>=1.17.0 in /Users/elisabetta/Library/Python/3.9/lib/python/site-packages (from aiohttp<4.0.0,>=3.8.3->langchain==0.3.9) (1.18.3)\n",
      "Requirement already satisfied: aiosignal>=1.1.2 in /Users/elisabetta/Library/Python/3.9/lib/python/site-packages (from aiohttp<4.0.0,>=3.8.3->langchain==0.3.9) (1.3.2)\n",
      "Requirement already satisfied: frozenlist>=1.1.1 in /Users/elisabetta/Library/Python/3.9/lib/python/site-packages (from aiohttp<4.0.0,>=3.8.3->langchain==0.3.9) (1.5.0)\n",
      "Requirement already satisfied: propcache>=0.2.0 in /Users/elisabetta/Library/Python/3.9/lib/python/site-packages (from aiohttp<4.0.0,>=3.8.3->langchain==0.3.9) (0.2.1)\n",
      "Requirement already satisfied: cffi>=1.12 in /Users/elisabetta/Library/Python/3.9/lib/python/site-packages (from cryptography>=36.0.0->pdfminer.six==20231228->pdfplumber) (1.17.1)\n",
      "Requirement already satisfied: pycparser in /Users/elisabetta/Library/Python/3.9/lib/python/site-packages (from cffi>=1.12->cryptography>=36.0.0->pdfminer.six==20231228->pdfplumber) (2.22)\n",
      "Requirement already satisfied: typing-inspect<1,>=0.4.0 in /Users/elisabetta/Library/Python/3.9/lib/python/site-packages (from dataclasses-json<0.7,>=0.5.7->langchain-community==0.3.9) (0.9.0)\n",
      "Requirement already satisfied: marshmallow<4.0.0,>=3.18.0 in /Users/elisabetta/Library/Python/3.9/lib/python/site-packages (from dataclasses-json<0.7,>=0.5.7->langchain-community==0.3.9) (3.25.1)\n",
      "Requirement already satisfied: MarkupSafe>=2.0 in /Users/elisabetta/Library/Python/3.9/lib/python/site-packages (from jinja2<4.0.0,>=3.1.4->instructor==1.7.0) (3.0.2)\n",
      "Requirement already satisfied: jsonpointer>=1.9 in /Users/elisabetta/Library/Python/3.9/lib/python/site-packages (from jsonpatch<2.0,>=1.33->langchain-core==0.3.21) (3.0.0)\n",
      "Requirement already satisfied: httpx<1,>=0.23.0 in /Users/elisabetta/Library/Python/3.9/lib/python/site-packages (from langsmith<0.2.0,>=0.1.17->langchain==0.3.9) (0.27.2)\n",
      "Requirement already satisfied: orjson<4.0.0,>=3.9.14 in /Users/elisabetta/Library/Python/3.9/lib/python/site-packages (from langsmith<0.2.0,>=0.1.17->langchain==0.3.9) (3.10.12)\n",
      "Requirement already satisfied: requests-toolbelt<2.0.0,>=1.0.0 in /Users/elisabetta/Library/Python/3.9/lib/python/site-packages (from langsmith<0.2.0,>=0.1.17->langchain==0.3.9) (1.0.0)\n",
      "Requirement already satisfied: idna in /Users/elisabetta/Library/Python/3.9/lib/python/site-packages (from httpx<1,>=0.23.0->langsmith<0.2.0,>=0.1.17->langchain==0.3.9) (3.10)\n",
      "Requirement already satisfied: certifi in /Users/elisabetta/Library/Python/3.9/lib/python/site-packages (from httpx<1,>=0.23.0->langsmith<0.2.0,>=0.1.17->langchain==0.3.9) (2024.8.30)\n",
      "Requirement already satisfied: anyio in /Users/elisabetta/Library/Python/3.9/lib/python/site-packages (from httpx<1,>=0.23.0->langsmith<0.2.0,>=0.1.17->langchain==0.3.9) (4.7.0)\n",
      "Requirement already satisfied: sniffio in /Users/elisabetta/Library/Python/3.9/lib/python/site-packages (from httpx<1,>=0.23.0->langsmith<0.2.0,>=0.1.17->langchain==0.3.9) (1.3.1)\n",
      "Requirement already satisfied: httpcore==1.* in /Users/elisabetta/Library/Python/3.9/lib/python/site-packages (from httpx<1,>=0.23.0->langsmith<0.2.0,>=0.1.17->langchain==0.3.9) (1.0.7)\n",
      "Requirement already satisfied: h11<0.15,>=0.13 in /Users/elisabetta/Library/Python/3.9/lib/python/site-packages (from httpcore==1.*->httpx<1,>=0.23.0->langsmith<0.2.0,>=0.1.17->langchain==0.3.9) (0.14.0)\n",
      "Requirement already satisfied: distro<2,>=1.7.0 in /Users/elisabetta/Library/Python/3.9/lib/python/site-packages (from openai<2.0.0,>=1.52.0->instructor==1.7.0) (1.9.0)\n",
      "Requirement already satisfied: exceptiongroup>=1.0.2 in /Users/elisabetta/Library/Python/3.9/lib/python/site-packages (from anyio->httpx<1,>=0.23.0->langsmith<0.2.0,>=0.1.17->langchain==0.3.9) (1.2.2)\n",
      "Requirement already satisfied: annotated-types>=0.6.0 in /Users/elisabetta/Library/Python/3.9/lib/python/site-packages (from pydantic<3.0.0,>=2.7.4->langchain==0.3.9) (0.7.0)\n",
      "Requirement already satisfied: python-dotenv>=0.21.0 in /Users/elisabetta/Library/Python/3.9/lib/python/site-packages (from pydantic-settings<3.0.0,>=2.4.0->langchain-community==0.3.9) (1.0.1)\n",
      "Requirement already satisfied: urllib3<3,>=1.21.1 in /Users/elisabetta/Library/Python/3.9/lib/python/site-packages (from requests<3,>=2->langchain==0.3.9) (2.2.3)\n",
      "Requirement already satisfied: markdown-it-py>=2.2.0 in /Users/elisabetta/Library/Python/3.9/lib/python/site-packages (from rich<14.0.0,>=13.7.0->instructor==1.7.0) (3.0.0)\n",
      "Requirement already satisfied: pygments<3.0.0,>=2.13.0 in /Users/elisabetta/Library/Python/3.9/lib/python/site-packages (from rich<14.0.0,>=13.7.0->instructor==1.7.0) (2.18.0)\n",
      "Requirement already satisfied: mdurl~=0.1 in /Users/elisabetta/Library/Python/3.9/lib/python/site-packages (from markdown-it-py>=2.2.0->rich<14.0.0,>=13.7.0->instructor==1.7.0) (0.1.2)\n",
      "Requirement already satisfied: regex!=2019.12.17 in /Users/elisabetta/Library/Python/3.9/lib/python/site-packages (from transformers<5.0.0,>=4.6.0->sentence-transformers==2.2.2) (2024.11.6)\n",
      "Requirement already satisfied: safetensors>=0.4.1 in /Users/elisabetta/Library/Python/3.9/lib/python/site-packages (from transformers<5.0.0,>=4.6.0->sentence-transformers==2.2.2) (0.5.2)\n",
      "Requirement already satisfied: tokenizers<0.21,>=0.20 in /Users/elisabetta/Library/Python/3.9/lib/python/site-packages (from transformers<5.0.0,>=4.6.0->sentence-transformers==2.2.2) (0.20.3)\n",
      "Requirement already satisfied: shellingham>=1.3.0 in /Users/elisabetta/Library/Python/3.9/lib/python/site-packages (from typer<1.0.0,>=0.9.0->instructor==1.7.0) (1.5.4)\n",
      "Requirement already satisfied: click>=8.0.0 in /Users/elisabetta/Library/Python/3.9/lib/python/site-packages (from typer<1.0.0,>=0.9.0->instructor==1.7.0) (8.1.8)\n",
      "Requirement already satisfied: mypy-extensions>=0.3.0 in /Users/elisabetta/Library/Python/3.9/lib/python/site-packages (from typing-inspect<1,>=0.4.0->dataclasses-json<0.7,>=0.5.7->langchain-community==0.3.9) (1.0.0)\n",
      "Requirement already satisfied: joblib in /Users/elisabetta/Library/Python/3.9/lib/python/site-packages (from nltk->sentence-transformers==2.2.2) (1.4.2)\n",
      "Requirement already satisfied: threadpoolctl>=3.1.0 in /Users/elisabetta/Library/Python/3.9/lib/python/site-packages (from scikit-learn->sentence-transformers==2.2.2) (3.5.0)\n",
      "Installing collected packages: langchain-core\n",
      "  Attempting uninstall: langchain-core\n",
      "    Found existing installation: langchain-core 0.3.29\n",
      "    Uninstalling langchain-core-0.3.29:\n",
      "      Successfully uninstalled langchain-core-0.3.29\n",
      "\u001b[31mERROR: pip's dependency resolver does not currently take into account all the packages that are installed. This behaviour is the source of the following dependency conflicts.\n",
      "langchain-groq 0.2.3 requires langchain-core<0.4.0,>=0.3.29, but you have langchain-core 0.3.21 which is incompatible.\u001b[0m\n",
      "Successfully installed langchain-core-0.3.21\n",
      "\u001b[33mWARNING: You are using pip version 21.2.4; however, version 24.3.1 is available.\n",
      "You should consider upgrading via the '/Library/Developer/CommandLineTools/usr/bin/python3 -m pip install --upgrade pip' command.\u001b[0m\n"
     ]
    }
   ],
   "source": [
    "!pip3 install PyPDF2 langchain==0.3.9 langchain-community==0.3.9 langchain-core==0.3.21 langchain-experimental==0.3.3 huggingface-hub==0.23.2 instructor==1.7.0 InstructorEmbedding==1.0.1 sentence-transformers==2.2.2 torch pdfplumber faiss-cpu\n"
   ]
  },
  {
   "cell_type": "code",
   "execution_count": 1,
   "metadata": {},
   "outputs": [
    {
     "name": "stdout",
     "output_type": "stream",
     "text": [
      "Defaulting to user installation because normal site-packages is not writeable\n",
      "Requirement already satisfied: langchain_groq in /Users/elisabetta/Library/Python/3.9/lib/python/site-packages (0.2.3)\n",
      "Collecting langchain-core<0.4.0,>=0.3.29\n",
      "  Using cached langchain_core-0.3.29-py3-none-any.whl (411 kB)\n",
      "Requirement already satisfied: groq<1,>=0.4.1 in /Users/elisabetta/Library/Python/3.9/lib/python/site-packages (from langchain_groq) (0.15.0)\n",
      "Requirement already satisfied: pydantic<3,>=1.9.0 in /Users/elisabetta/Library/Python/3.9/lib/python/site-packages (from groq<1,>=0.4.1->langchain_groq) (2.10.3)\n",
      "Requirement already satisfied: distro<2,>=1.7.0 in /Users/elisabetta/Library/Python/3.9/lib/python/site-packages (from groq<1,>=0.4.1->langchain_groq) (1.9.0)\n",
      "Requirement already satisfied: typing-extensions<5,>=4.10 in /Users/elisabetta/Library/Python/3.9/lib/python/site-packages (from groq<1,>=0.4.1->langchain_groq) (4.12.2)\n",
      "Requirement already satisfied: anyio<5,>=3.5.0 in /Users/elisabetta/Library/Python/3.9/lib/python/site-packages (from groq<1,>=0.4.1->langchain_groq) (4.7.0)\n",
      "Requirement already satisfied: sniffio in /Users/elisabetta/Library/Python/3.9/lib/python/site-packages (from groq<1,>=0.4.1->langchain_groq) (1.3.1)\n",
      "Requirement already satisfied: httpx<1,>=0.23.0 in /Users/elisabetta/Library/Python/3.9/lib/python/site-packages (from groq<1,>=0.4.1->langchain_groq) (0.27.2)\n",
      "Requirement already satisfied: idna>=2.8 in /Users/elisabetta/Library/Python/3.9/lib/python/site-packages (from anyio<5,>=3.5.0->groq<1,>=0.4.1->langchain_groq) (3.10)\n",
      "Requirement already satisfied: exceptiongroup>=1.0.2 in /Users/elisabetta/Library/Python/3.9/lib/python/site-packages (from anyio<5,>=3.5.0->groq<1,>=0.4.1->langchain_groq) (1.2.2)\n",
      "Requirement already satisfied: certifi in /Users/elisabetta/Library/Python/3.9/lib/python/site-packages (from httpx<1,>=0.23.0->groq<1,>=0.4.1->langchain_groq) (2024.8.30)\n",
      "Requirement already satisfied: httpcore==1.* in /Users/elisabetta/Library/Python/3.9/lib/python/site-packages (from httpx<1,>=0.23.0->groq<1,>=0.4.1->langchain_groq) (1.0.7)\n",
      "Requirement already satisfied: h11<0.15,>=0.13 in /Users/elisabetta/Library/Python/3.9/lib/python/site-packages (from httpcore==1.*->httpx<1,>=0.23.0->groq<1,>=0.4.1->langchain_groq) (0.14.0)\n",
      "Requirement already satisfied: packaging<25,>=23.2 in /Users/elisabetta/Library/Python/3.9/lib/python/site-packages (from langchain-core<0.4.0,>=0.3.29->langchain_groq) (24.2)\n",
      "Requirement already satisfied: tenacity!=8.4.0,<10.0.0,>=8.1.0 in /Users/elisabetta/Library/Python/3.9/lib/python/site-packages (from langchain-core<0.4.0,>=0.3.29->langchain_groq) (9.0.0)\n",
      "Requirement already satisfied: langsmith<0.3,>=0.1.125 in /Users/elisabetta/Library/Python/3.9/lib/python/site-packages (from langchain-core<0.4.0,>=0.3.29->langchain_groq) (0.1.147)\n",
      "Requirement already satisfied: jsonpatch<2.0,>=1.33 in /Users/elisabetta/Library/Python/3.9/lib/python/site-packages (from langchain-core<0.4.0,>=0.3.29->langchain_groq) (1.33)\n",
      "Requirement already satisfied: PyYAML>=5.3 in /Users/elisabetta/Library/Python/3.9/lib/python/site-packages (from langchain-core<0.4.0,>=0.3.29->langchain_groq) (6.0.2)\n",
      "Requirement already satisfied: jsonpointer>=1.9 in /Users/elisabetta/Library/Python/3.9/lib/python/site-packages (from jsonpatch<2.0,>=1.33->langchain-core<0.4.0,>=0.3.29->langchain_groq) (3.0.0)\n",
      "Requirement already satisfied: orjson<4.0.0,>=3.9.14 in /Users/elisabetta/Library/Python/3.9/lib/python/site-packages (from langsmith<0.3,>=0.1.125->langchain-core<0.4.0,>=0.3.29->langchain_groq) (3.10.12)\n",
      "Requirement already satisfied: requests-toolbelt<2.0.0,>=1.0.0 in /Users/elisabetta/Library/Python/3.9/lib/python/site-packages (from langsmith<0.3,>=0.1.125->langchain-core<0.4.0,>=0.3.29->langchain_groq) (1.0.0)\n",
      "Requirement already satisfied: requests<3,>=2 in /Users/elisabetta/Library/Python/3.9/lib/python/site-packages (from langsmith<0.3,>=0.1.125->langchain-core<0.4.0,>=0.3.29->langchain_groq) (2.32.3)\n",
      "Requirement already satisfied: annotated-types>=0.6.0 in /Users/elisabetta/Library/Python/3.9/lib/python/site-packages (from pydantic<3,>=1.9.0->groq<1,>=0.4.1->langchain_groq) (0.7.0)\n",
      "Requirement already satisfied: pydantic-core==2.27.1 in /Users/elisabetta/Library/Python/3.9/lib/python/site-packages (from pydantic<3,>=1.9.0->groq<1,>=0.4.1->langchain_groq) (2.27.1)\n",
      "Requirement already satisfied: urllib3<3,>=1.21.1 in /Users/elisabetta/Library/Python/3.9/lib/python/site-packages (from requests<3,>=2->langsmith<0.3,>=0.1.125->langchain-core<0.4.0,>=0.3.29->langchain_groq) (2.2.3)\n",
      "Requirement already satisfied: charset-normalizer<4,>=2 in /Users/elisabetta/Library/Python/3.9/lib/python/site-packages (from requests<3,>=2->langsmith<0.3,>=0.1.125->langchain-core<0.4.0,>=0.3.29->langchain_groq) (3.4.0)\n",
      "Installing collected packages: langchain-core\n",
      "  Attempting uninstall: langchain-core\n",
      "    Found existing installation: langchain-core 0.3.21\n",
      "    Uninstalling langchain-core-0.3.21:\n",
      "      Successfully uninstalled langchain-core-0.3.21\n",
      "Successfully installed langchain-core-0.3.29\n",
      "\u001b[33mWARNING: You are using pip version 21.2.4; however, version 24.3.1 is available.\n",
      "You should consider upgrading via the '/Library/Developer/CommandLineTools/usr/bin/python3 -m pip install --upgrade pip' command.\u001b[0m\n"
     ]
    }
   ],
   "source": [
    "!pip3 install langchain_groq"
   ]
  },
  {
   "cell_type": "code",
   "execution_count": 4,
   "metadata": {},
   "outputs": [
    {
     "name": "stderr",
     "output_type": "stream",
     "text": [
      "/Users/elisabetta/Library/Python/3.9/lib/python/site-packages/urllib3/__init__.py:35: NotOpenSSLWarning: urllib3 v2 only supports OpenSSL 1.1.1+, currently the 'ssl' module is compiled with 'LibreSSL 2.8.3'. See: https://github.com/urllib3/urllib3/issues/3020\n",
      "  warnings.warn(\n",
      "/Users/elisabetta/Library/Python/3.9/lib/python/site-packages/InstructorEmbedding/instructor.py:7: TqdmWarning: IProgress not found. Please update jupyter and ipywidgets. See https://ipywidgets.readthedocs.io/en/stable/user_install.html\n",
      "  from tqdm.autonotebook import trange\n"
     ]
    }
   ],
   "source": [
    "from PyPDF2 import PdfReader\n",
    "from langchain.text_splitter import CharacterTextSplitter, RecursiveCharacterTextSplitter\n",
    "from langchain.vectorstores import DocArrayInMemorySearch\n",
    "from langchain.document_loaders import TextLoader, PyPDFLoader\n",
    "from langchain_community.vectorstores import FAISS\n",
    "from langchain_experimental.text_splitter import SemanticChunker\n",
    "import os\n",
    "from langchain.embeddings import OllamaEmbeddings\n",
    "import pdfplumber\n",
    "from langchain_community.embeddings import HuggingFaceInstructEmbeddings\n",
    "from InstructorEmbedding import INSTRUCTOR\n",
    "from langchain_core.messages import HumanMessage, SystemMessage\n",
    "from langchain_ollama import ChatOllama\n",
    "from langchain_ollama.llms import OllamaLLM\n",
    "from langchain_core.output_parsers import StrOutputParser\n",
    "from langchain_core.prompts import ChatPromptTemplate\n",
    "from langchain_core.output_parsers import JsonOutputParser\n",
    "from langchain_core.prompts import PromptTemplate\n",
    "from langchain.memory import ConversationBufferMemory\n",
    "from langchain.chains import ConversationalRetrievalChain\n",
    "from langchain_groq import ChatGroq\n",
    "from langchain_community.embeddings import HuggingFaceEmbeddings\n",
    "from langchain_community.embeddings import SentenceTransformerEmbeddings\n",
    "\n"
   ]
  },
  {
   "cell_type": "code",
   "execution_count": 5,
   "metadata": {},
   "outputs": [],
   "source": [
    "from dotenv import load_dotenv\n",
    "load_dotenv()\n",
    "api_key= os.getenv('GROQ_API_KEY')"
   ]
  },
  {
   "cell_type": "code",
   "execution_count": 6,
   "metadata": {},
   "outputs": [],
   "source": [
    "model_name = 'llama-3.1-70b-versatile'\n",
    "\n",
    "groq_chat = ChatGroq(\n",
    "        groq_api_key=api_key,\n",
    "        model_name=model_name\n",
    "    )\n",
    "\n",
    "llm = groq_chat"
   ]
  },
  {
   "cell_type": "code",
   "execution_count": 7,
   "metadata": {},
   "outputs": [],
   "source": [
    "## Do not mofify\n",
    "def load_db(embeddings,pdf_path):\n",
    "    text =''\n",
    "    with open(pdf_path,'rb') as file:\n",
    "        pdf_reader = PdfReader(file)\n",
    "        for page in pdf_reader.pages:\n",
    "            text += page.extract_text()\n",
    "\n",
    "    text_splitter=SemanticChunker(\n",
    "        embeddings, breakpoint_threshold_type=\"percentile\")\n",
    "    #text_splitter = RecursiveCharacterTextSplitter(chunk_size=1000, chunk_overlap=150)\n",
    "    docs = text_splitter.split_text(text)\n",
    "    # define embedding\n",
    "    vectorstore = FAISS.from_texts(docs, embeddings)\n",
    "    return vectorstore"
   ]
  },
  {
   "cell_type": "code",
   "execution_count": null,
   "metadata": {},
   "outputs": [],
   "source": [
    "#embeddings = HuggingFaceInstructEmbeddings(model_name='hkunlp/instructor-xl') #Problems with Python 12\n",
    "embeddings = SentenceTransformerEmbeddings(model_name=\"all-MiniLM-L6-v2\")"
   ]
  },
  {
   "cell_type": "code",
   "execution_count": 10,
   "metadata": {},
   "outputs": [],
   "source": [
    "pdf_path = \"PeterPan.pdf\""
   ]
  },
  {
   "cell_type": "code",
   "execution_count": 10,
   "metadata": {},
   "outputs": [],
   "source": [
    "#Do not modify \n",
    "import os\n",
    "if not os.path.exists('faiss_index'):\n",
    "    vectorstore=load_db(embeddings,pdf_path)\n",
    "    vectorstore.save_local(\"faiss_index\")\n",
    "else:\n",
    "    vectorstore = FAISS.load_local(\"faiss_index\",embeddings=embeddings,allow_dangerous_deserialization=True)\n"
   ]
  },
  {
   "cell_type": "code",
   "execution_count": 11,
   "metadata": {},
   "outputs": [],
   "source": [
    "retriever = vectorstore.as_retriever()"
   ]
  },
  {
   "cell_type": "code",
   "execution_count": 12,
   "metadata": {},
   "outputs": [],
   "source": [
    "template = \"\"\"Eres un asistente para contestar preguntas del ususario sobre el contenido del file subido, que trata de la historia de Peter Pan. \n",
    "    Contesta siempre en español y agradece el usuario por preguntar. Si las preguntas son sobre otro tema, contesta que no puedes contestar.\n",
    "    {context}\n",
    "    Question: {question}\n",
    "    Helpful Answer:\"\"\"\n",
    "qa_prompt = ChatPromptTemplate.from_template(template)"
   ]
  },
  {
   "cell_type": "code",
   "execution_count": 13,
   "metadata": {},
   "outputs": [
    {
     "name": "stderr",
     "output_type": "stream",
     "text": [
      "C:\\Users\\L01257675\\AppData\\Local\\Temp\\ipykernel_7864\\3110315447.py:2: LangChainDeprecationWarning: Please see the migration guide at: https://python.langchain.com/docs/versions/migrating_memory/\n",
      "  memory = ConversationBufferMemory(memory_key='chat_history', return_messages=True)\n"
     ]
    }
   ],
   "source": [
    "#Do not modify\n",
    "memory = ConversationBufferMemory(memory_key='chat_history', return_messages=True)\n",
    "conversation_chain = ConversationalRetrievalChain.from_llm(\n",
    "    llm=llm,\n",
    "    retriever=retriever,\n",
    "    memory=memory,\n",
    "    combine_docs_chain_kwargs={\"prompt\": qa_prompt}\n",
    ")"
   ]
  },
  {
   "cell_type": "code",
   "execution_count": 14,
   "metadata": {},
   "outputs": [],
   "source": [
    "history = []"
   ]
  },
  {
   "cell_type": "code",
   "execution_count": 15,
   "metadata": {},
   "outputs": [
    {
     "name": "stdout",
     "output_type": "stream",
     "text": [
      "Escribe \"exit\" para salir\n",
      "¿De qué trata la historia? Haz un resumen en español, por favor.\n"
     ]
    },
    {
     "name": "stderr",
     "output_type": "stream",
     "text": [
      "C:\\Users\\L01257675\\AppData\\Local\\Temp\\ipykernel_7864\\387802828.py:8: LangChainDeprecationWarning: The method `Chain.__call__` was deprecated in langchain 0.1.0 and will be removed in 1.0. Use :meth:`~invoke` instead.\n",
      "  result = conversation({\"question\": question}, {\"chat_history\": history})\n"
     ]
    },
    {
     "name": "stdout",
     "output_type": "stream",
     "text": [
      "Bot:  La historia trata sobre las aventuras de Peter Pan, un niño que nunca crece, y su relación con la familia Darling, especialmente con Wendy y sus hermanos Michael y John. La historia comienza cuando Peter Pan llega a la casa de los Darling en busca de su sombra, que había quedado atrapada allí. Con la ayuda de Wendy, Peter recupera su sombra y se gana la amistad de los niños.\n",
      "\n",
      "Posteriormente, Peter les invita a unirse a él en el País de Nunca Jamás, un lugar mágico donde los niños nunca crecen y viven aventuras emocionantes. Allí, se encuentran con los Niños Perdidos, un grupo de niños que viven con Peter, y también con piratas, hadas y otros seres mágicos.\n",
      "\n",
      "Sin embargo, la felicidad no dura mucho, ya que el capitán Garfio, un pirata que busca venganza contra Peter, intenta capturar a los niños y hacerles daño. Peter y sus amigos deben enfrentar a Garfio y sus piratas en una serie de aventuras emocionantes y peligrosas.\n",
      "\n",
      "En resumen, la historia es una aventura emocionante y llena de acción, que explora temas como la amistad, la imaginación y la lucha entre el bien y el mal. Muchas gracias por preguntar.\n",
      "¿Quién es Capitán Garfio?\n",
      "Bot:  Muchas gracias por preguntar. El Capitán Garfio es el principal antagonista en la historia de Peter Pan. Es un pirata cruel y vengativo que busca matar a Peter Pan como venganza por haberle arrebatado la mano derecha en una lucha anterior. Ahora, en su lugar, utiliza un garfio que maneja con perfección. También tiene miedo a un cocodrilo que intentó comerlo en el pasado y que ahora lleva un reloj que hace tic-tac, lo que le permite anticipar su llegada. Es un personaje peligroso y astuto que hará todo lo posible para lograr sus objetivos.\n"
     ]
    }
   ],
   "source": [
    "def handle_conversation(conversation,history):\n",
    "    print('Escribe \"exit\" para salir')\n",
    "    while True:\n",
    "        question = input('Tu: ')\n",
    "        if question.lower() == 'exit':\n",
    "            break\n",
    "        print(question)\n",
    "        result = conversation({\"question\": question}, {\"chat_history\": history})\n",
    "        history.append((question, result[\"answer\"]))\n",
    "        print(\"Bot: \",result['answer'])\n",
    "\n",
    "handle_conversation(conversation_chain,history)"
   ]
  }
 ],
 "metadata": {
  "kernelspec": {
   "display_name": "Python 3",
   "language": "python",
   "name": "python3"
  },
  "language_info": {
   "codemirror_mode": {
    "name": "ipython",
    "version": 3
   },
   "file_extension": ".py",
   "mimetype": "text/x-python",
   "name": "python",
   "nbconvert_exporter": "python",
   "pygments_lexer": "ipython3",
   "version": "3.9.6"
  }
 },
 "nbformat": 4,
 "nbformat_minor": 2
}
